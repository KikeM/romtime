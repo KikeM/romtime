{
 "cells": [
  {
   "cell_type": "code",
   "execution_count": 1,
   "id": "tender-treasury",
   "metadata": {},
   "outputs": [],
   "source": [
    "%matplotlib inline"
   ]
  },
  {
   "cell_type": "code",
   "execution_count": 33,
   "id": "occupational-labor",
   "metadata": {},
   "outputs": [],
   "source": [
    "import fenics\n",
    "from fenics import dot, grad, dx\n",
    "from functools import partial"
   ]
  },
  {
   "cell_type": "markdown",
   "id": "downtown-christian",
   "metadata": {},
   "source": [
    "## Create functional spaces"
   ]
  },
  {
   "cell_type": "code",
   "execution_count": 106,
   "id": "overall-concern",
   "metadata": {},
   "outputs": [],
   "source": [
    "mesh = fenics.UnitSquareMesh(nx=8, ny=8)\n",
    "\n",
    "V = fenics.FunctionSpace(mesh, \"P\", 1)"
   ]
  },
  {
   "cell_type": "code",
   "execution_count": 107,
   "id": "desperate-platinum",
   "metadata": {},
   "outputs": [],
   "source": [
    "u_D = fenics.Expression(\"1 + x[0]*x[0] + 2.0 * x[1]*x[1]\", degree=2)\n",
    "\n",
    "\n",
    "def boundary(x, on_boundary):\n",
    "    return on_boundary\n",
    "\n",
    "\n",
    "bc = fenics.DirichletBC(V, u_D, boundary)"
   ]
  },
  {
   "cell_type": "code",
   "execution_count": 108,
   "id": "eligible-genome",
   "metadata": {},
   "outputs": [],
   "source": [
    "u = fenics.TrialFunction(V=V)\n",
    "v = fenics.TestFunction(V=V)\n",
    "f = fenics.Constant(-6)"
   ]
  },
  {
   "cell_type": "markdown",
   "id": "cosmetic-constitution",
   "metadata": {},
   "source": [
    "### Define problem"
   ]
  },
  {
   "cell_type": "code",
   "execution_count": 109,
   "id": "steady-marking",
   "metadata": {},
   "outputs": [],
   "source": [
    "a = dot(grad(u), grad(v)) * dx\n",
    "L = f * v * dx"
   ]
  },
  {
   "cell_type": "markdown",
   "id": "representative-heart",
   "metadata": {},
   "source": [
    "### Solve problem"
   ]
  },
  {
   "cell_type": "code",
   "execution_count": 110,
   "id": "desirable-range",
   "metadata": {},
   "outputs": [],
   "source": [
    "u = fenics.Function(V)\n",
    "\n",
    "fenics.solve(a == L, u, bcs=bc)"
   ]
  },
  {
   "cell_type": "code",
   "execution_count": 111,
   "id": "charming-somerset",
   "metadata": {},
   "outputs": [
    {
     "data": {
      "text/plain": [
       "<matplotlib.tri.tricontour.TriContourSet at 0x15a534c40>"
      ]
     },
     "execution_count": 111,
     "metadata": {},
     "output_type": "execute_result"
    },
    {
     "data": {
      "image/png": "[encoded data removed]",
      "text/plain": [
       "<Figure size 432x288 with 1 Axes>"
      ]
     },
     "metadata": {
      "needs_background": "light"
     },
     "output_type": "display_data"
    }
   ],
   "source": [
    "fenics.plot(u)"
   ]
  },
  {
   "cell_type": "markdown",
   "id": "ruled-business",
   "metadata": {},
   "source": [
    "## Certify solution"
   ]
  },
  {
   "cell_type": "code",
   "execution_count": 112,
   "id": "referenced-indication",
   "metadata": {},
   "outputs": [],
   "source": [
    "compute_error = partial(fenics.errornorm, u=u_D, uh=u, mesh=mesh)\n",
    "\n",
    "error_L2 = compute_error(norm_type=\"L2\")\n",
    "error_H1 = compute_error(norm_type=\"H1\")"
   ]
  },
  {
   "cell_type": "code",
   "execution_count": 113,
   "id": "published-sydney",
   "metadata": {},
   "outputs": [],
   "source": [
    "u_D_vertex = u_D.compute_vertex_values(mesh=mesh)\n",
    "u_vertex = u.compute_vertex_values(mesh=mesh)"
   ]
  },
  {
   "cell_type": "code",
   "execution_count": 114,
   "id": "valued-douglas",
   "metadata": {},
   "outputs": [],
   "source": [
    "error_max = max(abs(u_D_vertex - u_vertex))"
   ]
  },
  {
   "cell_type": "code",
   "execution_count": 115,
   "id": "numerical-delicious",
   "metadata": {},
   "outputs": [
    {
     "name": "stdout",
     "output_type": "stream",
     "text": [
      "Errors\n",
      "L2 = 0.008235098073354827\n",
      "H1 = 0.16158429226550816\n",
      "L8 = 1.3322676295501878e-15\n"
     ]
    }
   ],
   "source": [
    "print(\"Errors\", f\"L2 = {error_L2}\", f\"H1 = {error_H1}\", f\"L8 = {error_max}\", sep=\"\\n\")"
   ]
  },
  {
   "cell_type": "code",
   "execution_count": 126,
   "id": "covered-producer",
   "metadata": {},
   "outputs": [
    {
     "data": {
      "text/plain": [
       "array([3.      , 2.53125 , 3.015625, 2.125   , 2.546875, 3.0625  ,\n",
       "       1.78125 , 2.140625, 2.59375 , 3.140625, 1.5     , 1.796875,\n",
       "       2.1875  , 2.671875, 3.25    , 1.28125 , 1.515625, 1.84375 ,\n",
       "       2.265625, 2.78125 , 3.390625, 1.125   , 1.296875, 1.5625  ,\n",
       "       1.921875, 2.375   , 2.921875, 3.5625  , 1.03125 , 1.140625,\n",
       "       1.34375 , 1.640625, 2.03125 , 2.515625, 3.09375 , 3.765625,\n",
       "       1.      , 1.046875, 1.1875  , 1.421875, 1.75    , 2.171875,\n",
       "       2.6875  , 3.296875, 4.      , 1.015625, 1.09375 , 1.265625,\n",
       "       1.53125 , 1.890625, 2.34375 , 2.890625, 3.53125 , 1.0625  ,\n",
       "       1.171875, 1.375   , 1.671875, 2.0625  , 2.546875, 3.125   ,\n",
       "       1.140625, 1.28125 , 1.515625, 1.84375 , 2.265625, 2.78125 ,\n",
       "       1.25    , 1.421875, 1.6875  , 2.046875, 2.5     , 1.390625,\n",
       "       1.59375 , 1.890625, 2.28125 , 1.5625  , 1.796875, 2.125   ,\n",
       "       1.765625, 2.03125 , 2.      ])"
      ]
     },
     "execution_count": 126,
     "metadata": {},
     "output_type": "execute_result"
    }
   ],
   "source": [
    "u.vector().get_local()"
   ]
  }
 ],
 "metadata": {
  "kernelspec": {
   "display_name": "Python 3",
   "language": "python",
   "name": "python3"
  },
  "language_info": {
   "codemirror_mode": {
    "name": "ipython",
    "version": 3
   },
   "file_extension": ".py",
   "mimetype": "text/x-python",
   "name": "python",
   "nbconvert_exporter": "python",
   "pygments_lexer": "ipython3",
   "version": "3.9.1"
  },
  "latex_envs": {
   "LaTeX_envs_menu_present": true,
   "autoclose": false,
   "autocomplete": true,
   "bibliofile": "biblio.bib",
   "cite_by": "apalike",
   "current_citInitial": 1,
   "eqLabelWithNumbers": true,
   "eqNumInitial": 1,
   "hotkeys": {
    "equation": "Ctrl-E",
    "itemize": "Ctrl-I"
   },
   "labels_anchors": false,
   "latex_user_defs": false,
   "report_style_numbering": false,
   "user_envs_cfg": false
  },
  "toc": {
   "base_numbering": 1,
   "nav_menu": {},
   "number_sections": true,
   "sideBar": true,
   "skip_h1_title": false,
   "title_cell": "Table of Contents",
   "title_sidebar": "Contents",
   "toc_cell": false,
   "toc_position": {},
   "toc_section_display": true,
   "toc_window_display": false
  },
  "varInspector": {
   "cols": {
    "lenName": 16,
    "lenType": 16,
    "lenVar": 40
   },
   "kernels_config": {
    "python": {
     "delete_cmd_postfix": "",
     "delete_cmd_prefix": "del ",
     "library": "var_list.py",
     "varRefreshCmd": "print(var_dic_list())"
    },
    "r": {
     "delete_cmd_postfix": ") ",
     "delete_cmd_prefix": "rm(",
     "library": "var_list.r",
     "varRefreshCmd": "cat(var_dic_list()) "
    }
   },
   "types_to_exclude": [
    "module",
    "function",
    "builtin_function_or_method",
    "instance",
    "_Feature"
   ],
   "window_display": false
  }
 },
 "nbformat": 4,
 "nbformat_minor": 5
}
