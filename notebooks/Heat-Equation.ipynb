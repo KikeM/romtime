{
 "cells": [
  {
   "cell_type": "code",
   "execution_count": 50,
   "id": "tender-treasury",
   "metadata": {},
   "outputs": [],
   "source": [
    "%matplotlib inline"
   ]
  },
  {
   "cell_type": "code",
   "execution_count": 51,
   "id": "occupational-labor",
   "metadata": {},
   "outputs": [],
   "source": [
    "import fenics\n",
    "from fenics import dot, grad, dx\n",
    "from functools import partial"
   ]
  },
  {
   "cell_type": "markdown",
   "id": "downtown-christian",
   "metadata": {},
   "source": [
    "## Create functional spaces"
   ]
  },
  {
   "cell_type": "code",
   "execution_count": 52,
   "id": "overall-concern",
   "metadata": {},
   "outputs": [],
   "source": [
    "mesh = fenics.UnitSquareMesh(nx=8, ny=8)\n",
    "\n",
    "V = fenics.FunctionSpace(mesh, \"P\", 1)"
   ]
  },
  {
   "cell_type": "code",
   "execution_count": 53,
   "id": "desperate-platinum",
   "metadata": {},
   "outputs": [],
   "source": [
    "alpha = 3.0\n",
    "beta = 1.2\n",
    "u_D = fenics.Expression(\n",
    "    \"1 + x[0] * x[0] + alpha * x[1] * x[1] + beta * t\",\n",
    "    degree=2,\n",
    "    alpha=alpha,\n",
    "    beta=beta,\n",
    "    t=0,\n",
    ")\n",
    "\n",
    "\n",
    "def boundary(x, on_boundary):\n",
    "    return on_boundary\n",
    "\n",
    "\n",
    "bc = fenics.DirichletBC(V, u_D, boundary)"
   ]
  },
  {
   "cell_type": "code",
   "execution_count": 54,
   "id": "eligible-genome",
   "metadata": {},
   "outputs": [],
   "source": [
    "u = fenics.TrialFunction(V=V)\n",
    "v = fenics.TestFunction(V=V)\n",
    "f = fenics.Constant(beta - 2.0 - 2.0 * alpha)"
   ]
  },
  {
   "cell_type": "code",
   "execution_count": 55,
   "id": "growing-jones",
   "metadata": {},
   "outputs": [],
   "source": [
    "u_n = fenics.interpolate(u_D, V)\n",
    "# u_n = fenics.project(u_D, V)"
   ]
  },
  {
   "cell_type": "markdown",
   "id": "cosmetic-constitution",
   "metadata": {},
   "source": [
    "### Define problem\n",
    "\n",
    "We let FEniCS determine what goes in the LHS and RHS automatically."
   ]
  },
  {
   "cell_type": "code",
   "execution_count": 56,
   "id": "optical-current",
   "metadata": {},
   "outputs": [],
   "source": [
    "T = 2.0\n",
    "num_steps = 10\n",
    "dt = T / num_steps"
   ]
  },
  {
   "cell_type": "code",
   "execution_count": 57,
   "id": "steady-marking",
   "metadata": {},
   "outputs": [],
   "source": [
    "F = u * v * dx + dt * dot(grad(u), grad(v)) * dx - (u_n + dt * f) * v * dx\n",
    "\n",
    "a, L = fenics.lhs(F), fenics.rhs(F)"
   ]
  },
  {
   "cell_type": "markdown",
   "id": "representative-heart",
   "metadata": {},
   "source": [
    "### Solve problem"
   ]
  },
  {
   "cell_type": "code",
   "execution_count": 58,
   "id": "desirable-range",
   "metadata": {},
   "outputs": [],
   "source": [
    "u = fenics.Function(V)\n",
    "\n",
    "t = 0\n",
    "for n in range(num_steps):\n",
    "    \n",
    "    t += dt\n",
    "    u_D.t = t\n",
    "    \n",
    "    fenics.solve(a == L, u, bcs=bc)\n",
    "    \n",
    "    u_n.assign(u)"
   ]
  },
  {
   "cell_type": "code",
   "execution_count": 60,
   "id": "obvious-impossible",
   "metadata": {},
   "outputs": [
    {
     "data": {
      "text/plain": [
       "dolfin.function.function.Function"
      ]
     },
     "execution_count": 60,
     "metadata": {},
     "output_type": "execute_result"
    }
   ],
   "source": [
    "type(u)"
   ]
  },
  {
   "cell_type": "code",
   "execution_count": 43,
   "id": "charming-somerset",
   "metadata": {},
   "outputs": [
    {
     "data": {
      "text/plain": [
       "<matplotlib.tri.tricontour.TriContourSet at 0x15fe2b3d0>"
      ]
     },
     "execution_count": 43,
     "metadata": {},
     "output_type": "execute_result"
    },
    {
     "data": {
      "image/png": "[encoded data removed]",
      "text/plain": [
       "<Figure size 432x288 with 1 Axes>"
      ]
     },
     "metadata": {
      "needs_background": "light"
     },
     "output_type": "display_data"
    }
   ],
   "source": [
    "fenics.plot(u)"
   ]
  },
  {
   "cell_type": "markdown",
   "id": "ruled-business",
   "metadata": {},
   "source": [
    "## Certify solution"
   ]
  },
  {
   "cell_type": "code",
   "execution_count": 44,
   "id": "referenced-indication",
   "metadata": {},
   "outputs": [],
   "source": [
    "compute_error = partial(fenics.errornorm, u=u_D, uh=u, mesh=mesh)\n",
    "\n",
    "error_L2 = compute_error(norm_type=\"L2\")\n",
    "error_H1 = compute_error(norm_type=\"H1\")"
   ]
  },
  {
   "cell_type": "code",
   "execution_count": 45,
   "id": "published-sydney",
   "metadata": {},
   "outputs": [],
   "source": [
    "u_D_vertex = u_D.compute_vertex_values(mesh=mesh)\n",
    "u_vertex = u.compute_vertex_values(mesh=mesh)"
   ]
  },
  {
   "cell_type": "code",
   "execution_count": 46,
   "id": "valued-douglas",
   "metadata": {},
   "outputs": [],
   "source": [
    "error_max = max(abs(u_D_vertex - u_vertex))"
   ]
  },
  {
   "cell_type": "code",
   "execution_count": 47,
   "id": "numerical-delicious",
   "metadata": {},
   "outputs": [
    {
     "name": "stdout",
     "output_type": "stream",
     "text": [
      "Errors\n",
      "L2 = 0.011048555903890245\n",
      "H1 = 0.2284850190294798\n",
      "L8 = 3.3436180935098037e-08\n"
     ]
    }
   ],
   "source": [
    "print(\"Errors\", f\"L2 = {error_L2}\", f\"H1 = {error_H1}\", f\"L8 = {error_max}\", sep=\"\\n\")"
   ]
  },
  {
   "cell_type": "code",
   "execution_count": 48,
   "id": "covered-producer",
   "metadata": {},
   "outputs": [
    {
     "data": {
      "text/plain": [
       "array([6.4       , 5.696875  , 6.415625  , 5.0875    , 5.7125    ,\n",
       "       6.4625    , 4.571875  , 5.10312501, 5.75937501, 6.540625  ,\n",
       "       4.15      , 4.58750001, 5.15000002, 5.83750001, 6.65      ,\n",
       "       3.821875  , 4.16562501, 4.63437502, 5.22812502, 5.94687501,\n",
       "       6.790625  , 3.5875    , 3.83750001, 4.21250002, 4.71250003,\n",
       "       5.33750002, 6.08750001, 6.9625    , 3.446875  , 3.60312501,\n",
       "       3.88437502, 4.29062503, 4.82187503, 5.47812502, 6.25937501,\n",
       "       7.165625  , 3.4       , 3.46250001, 3.65000002, 3.96250003,\n",
       "       4.40000003, 4.96250003, 5.65000002, 6.46250001, 7.4       ,\n",
       "       3.415625  , 3.50937501, 3.72812502, 4.07187503, 4.54062503,\n",
       "       5.13437502, 5.85312501, 6.696875  , 3.4625    , 3.58750001,\n",
       "       3.83750002, 4.21250003, 4.71250002, 5.33750001, 6.0875    ,\n",
       "       3.540625  , 3.69687501, 3.97812502, 4.38437502, 4.91562501,\n",
       "       5.571875  , 3.65      , 3.83750001, 4.15000002, 4.58750001,\n",
       "       5.15      , 3.790625  , 4.00937501, 4.35312501, 4.821875  ,\n",
       "       3.9625    , 4.2125    , 4.5875    , 4.165625  , 4.446875  ,\n",
       "       4.4       ])"
      ]
     },
     "execution_count": 48,
     "metadata": {},
     "output_type": "execute_result"
    }
   ],
   "source": [
    "u.vector().get_local()"
   ]
  },
  {
   "cell_type": "code",
   "execution_count": null,
   "id": "continent-farming",
   "metadata": {},
   "outputs": [],
   "source": []
  }
 ],
 "metadata": {
  "kernelspec": {
   "display_name": "Python 3",
   "language": "python",
   "name": "python3"
  },
  "language_info": {
   "codemirror_mode": {
    "name": "ipython",
    "version": 3
   },
   "file_extension": ".py",
   "mimetype": "text/x-python",
   "name": "python",
   "nbconvert_exporter": "python",
   "pygments_lexer": "ipython3",
   "version": "3.9.1"
  },
  "latex_envs": {
   "LaTeX_envs_menu_present": true,
   "autoclose": false,
   "autocomplete": true,
   "bibliofile": "biblio.bib",
   "cite_by": "apalike",
   "current_citInitial": 1,
   "eqLabelWithNumbers": true,
   "eqNumInitial": 1,
   "hotkeys": {
    "equation": "Ctrl-E",
    "itemize": "Ctrl-I"
   },
   "labels_anchors": false,
   "latex_user_defs": false,
   "report_style_numbering": false,
   "user_envs_cfg": false
  },
  "toc": {
   "base_numbering": 1,
   "nav_menu": {},
   "number_sections": true,
   "sideBar": true,
   "skip_h1_title": false,
   "title_cell": "Table of Contents",
   "title_sidebar": "Contents",
   "toc_cell": false,
   "toc_position": {},
   "toc_section_display": true,
   "toc_window_display": false
  },
  "varInspector": {
   "cols": {
    "lenName": 16,
    "lenType": 16,
    "lenVar": 40
   },
   "kernels_config": {
    "python": {
     "delete_cmd_postfix": "",
     "delete_cmd_prefix": "del ",
     "library": "var_list.py",
     "varRefreshCmd": "print(var_dic_list())"
    },
    "r": {
     "delete_cmd_postfix": ") ",
     "delete_cmd_prefix": "rm(",
     "library": "var_list.r",
     "varRefreshCmd": "cat(var_dic_list()) "
    }
   },
   "types_to_exclude": [
    "module",
    "function",
    "builtin_function_or_method",
    "instance",
    "_Feature"
   ],
   "window_display": false
  }
 },
 "nbformat": 4,
 "nbformat_minor": 5
}
